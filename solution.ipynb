{
 "cells": [
  {
   "cell_type": "code",
   "execution_count": 1,
   "metadata": {},
   "outputs": [],
   "source": [
    "#imports\n",
    "import pandas as pd\n",
    "import json\n",
    "import numpy as np\n",
    "from sklearn.neighbors import BallTree"
   ]
  },
  {
   "cell_type": "code",
   "execution_count": 2,
   "metadata": {},
   "outputs": [],
   "source": [
    "#Define constants\n",
    "distance_threshold_in_KM = 0.1\n",
    "earth_radius = 6378\n",
    "distance_threshold_in_rads = distance_threshold_in_KM / earth_radius\n",
    "\n",
    "#load data and convert to radians\n",
    "json_dataframe = pd.read_json(\"SensorData2.json\")\n",
    "csv_dataframe = pd.read_csv(\"SensorData1.csv\")\n",
    "\n",
    "coords_csv = csv_dataframe[['latitude', 'longitude']].values\n",
    "coords_json = json_dataframe[['latitude', 'longitude']].values\n",
    "\n",
    "coords_csv_radians = np.radians(coords_csv)\n",
    "coords_json_radians = np.radians(coords_json)\n",
    "\n"
   ]
  },
  {
   "cell_type": "code",
   "execution_count": 3,
   "metadata": {},
   "outputs": [
    {
     "name": "stdout",
     "output_type": "stream",
     "text": [
      "{8: 12, 23: 40, 19: 13, 11: 37, 2: 9, 6: 19, 12: 17, 16: 33, 15: 23}\n"
     ]
    }
   ],
   "source": [
    "#create ball tree of json with haversine\n",
    "json_balltree = BallTree(coords_json_radians , metric=\"haversine\")\n",
    "#query csv data against json tree\n",
    "distances, indices = json_balltree.query(coords_csv_radians, k=1)\n",
    "\n",
    "matched_pairs = {}\n",
    "#Go through distances and add to dictionary if in threshold\n",
    "for i, distance in enumerate(distances):\n",
    "    if distance <= distance_threshold_in_rads:\n",
    "        csv_id = int(csv_dataframe.iloc[i]['id'])\n",
    "        json_id = int(json_dataframe.iloc[indices[i][0]]['id'])\n",
    "        matched_pairs[csv_id] = json_id\n",
    "\n",
    "print(matched_pairs)\n",
    "\n",
    "with open('output.json', 'w') as f:\n",
    "    json.dump(matched_pairs, f)\n",
    "\n"
   ]
  }
 ],
 "metadata": {
  "kernelspec": {
   "display_name": "base",
   "language": "python",
   "name": "python3"
  },
  "language_info": {
   "codemirror_mode": {
    "name": "ipython",
    "version": 3
   },
   "file_extension": ".py",
   "mimetype": "text/x-python",
   "name": "python",
   "nbconvert_exporter": "python",
   "pygments_lexer": "ipython3",
   "version": "3.9.12"
  }
 },
 "nbformat": 4,
 "nbformat_minor": 2
}
